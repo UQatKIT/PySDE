{
 "cells": [
  {
   "cell_type": "code",
   "execution_count": 1,
   "metadata": {},
   "outputs": [
    {
     "ename": "ModuleNotFoundError",
     "evalue": "No module named 'typeguard'",
     "output_type": "error",
     "traceback": [
      "\u001b[0;31m---------------------------------------------------------------------------\u001b[0m",
      "\u001b[0;31mModuleNotFoundError\u001b[0m                       Traceback (most recent call last)",
      "Cell \u001b[0;32mIn[1], line 4\u001b[0m\n\u001b[1;32m      1\u001b[0m \u001b[38;5;28;01mimport\u001b[39;00m\u001b[38;5;250m \u001b[39m\u001b[38;5;21;01mnumpy\u001b[39;00m\u001b[38;5;250m \u001b[39m\u001b[38;5;28;01mas\u001b[39;00m\u001b[38;5;250m \u001b[39m\u001b[38;5;21;01mnp\u001b[39;00m\n\u001b[1;32m      2\u001b[0m \u001b[38;5;28;01mimport\u001b[39;00m\u001b[38;5;250m \u001b[39m\u001b[38;5;21;01mmatplotlib\u001b[39;00m\u001b[38;5;21;01m.\u001b[39;00m\u001b[38;5;21;01mpyplot\u001b[39;00m\u001b[38;5;250m \u001b[39m\u001b[38;5;28;01mas\u001b[39;00m\u001b[38;5;250m \u001b[39m\u001b[38;5;21;01mplt\u001b[39;00m\n\u001b[0;32m----> 4\u001b[0m \u001b[38;5;28;01mfrom\u001b[39;00m\u001b[38;5;250m \u001b[39m\u001b[38;5;21;01mpysde\u001b[39;00m\u001b[38;5;250m \u001b[39m\u001b[38;5;28;01mimport\u001b[39;00m integrators, schemes, stochastic_integrals, storages\n",
      "File \u001b[0;32m~/4-Code/pysde/src/pysde/integrators.py:31\u001b[0m\n\u001b[1;32m     29\u001b[0m \u001b[38;5;28;01mimport\u001b[39;00m\u001b[38;5;250m \u001b[39m\u001b[38;5;21;01mnumpy\u001b[39;00m\u001b[38;5;250m \u001b[39m\u001b[38;5;28;01mas\u001b[39;00m\u001b[38;5;250m \u001b[39m\u001b[38;5;21;01mnp\u001b[39;00m\n\u001b[1;32m     30\u001b[0m \u001b[38;5;28;01mimport\u001b[39;00m\u001b[38;5;250m \u001b[39m\u001b[38;5;21;01mtqdm\u001b[39;00m\n\u001b[0;32m---> 31\u001b[0m \u001b[38;5;28;01mfrom\u001b[39;00m\u001b[38;5;250m \u001b[39m\u001b[38;5;21;01mtypeguard\u001b[39;00m\u001b[38;5;250m \u001b[39m\u001b[38;5;28;01mimport\u001b[39;00m typechecked\n\u001b[1;32m     33\u001b[0m \u001b[38;5;28;01mfrom\u001b[39;00m\u001b[38;5;250m \u001b[39m\u001b[38;5;21;01mpysde\u001b[39;00m\u001b[38;5;250m \u001b[39m\u001b[38;5;28;01mimport\u001b[39;00m schemes, storages\n\u001b[1;32m     35\u001b[0m RunFunction \u001b[38;5;241m=\u001b[39m Callable[\u001b[38;5;241m.\u001b[39m\u001b[38;5;241m.\u001b[39m\u001b[38;5;241m.\u001b[39m, \u001b[38;5;28mtuple\u001b[39m[Iterable, Iterable]]\n",
      "\u001b[0;31mModuleNotFoundError\u001b[0m: No module named 'typeguard'"
     ]
    }
   ],
   "source": [
    "import numpy as np\n",
    "import matplotlib.pyplot as plt\n",
    "\n",
    "from pysde import integrators, schemes, stochastic_integrals, storages"
   ]
  },
  {
   "cell_type": "code",
   "execution_count": null,
   "metadata": {},
   "outputs": [],
   "source": [
    "# Settings for SDE Model\n",
    "variable_dim = 2\n",
    "noise_dim = 2\n",
    "\n",
    "\n",
    "def drift(current_state: np.ndarray, current_time: float):\n",
    "    return -current_state\n",
    "\n",
    "\n",
    "def diffusion(current_state: np.ndarray, current_time: float):\n",
    "    return np.ones((current_state.shape[0], current_state.shape[0], current_state.shape[1]))\n",
    "\n",
    "\n",
    "# Settings for integration\n",
    "start_time = 0\n",
    "step_size = 1e-3\n",
    "num_steps = 501\n",
    "initial_state = np.array([[1, 0], [0, 1]])\n",
    "\n",
    "# Settings for stochastic integral generation\n",
    "seed = 0\n",
    "\n",
    "# Settings for storage\n",
    "chunk_size = 100\n",
    "save_directory = \"test_dir/data\""
   ]
  },
  {
   "cell_type": "code",
   "execution_count": null,
   "metadata": {},
   "outputs": [],
   "source": [
    "# Stochastic integral generator\n",
    "stochastic_integral = stochastic_integrals.ItoStochasticIntegral(seed)\n",
    "\n",
    "# Integration scheme, equipped with SDE model and stochastic integral generator\n",
    "scheme = schemes.ExplicitEulerMaruyamaScheme(\n",
    "    noise_dim, variable_dim, drift, diffusion, stochastic_integral\n",
    ")\n",
    "\n",
    "# Storage model\n",
    "storage = storages.NumpyStorage(save_directory)\n",
    "# storage = storages.ZarrChunkwiseStorage(save_directory, chunk_size)\n",
    "\n",
    "# Outer loop integrator\n",
    "integrator = integrators.StaticIntegrator(scheme, storage)\n",
    "\n",
    "# Solve SDE\n",
    "time_array, result_array = integrator.run(initial_state, start_time, step_size, num_steps)"
   ]
  },
  {
   "cell_type": "code",
   "execution_count": null,
   "metadata": {},
   "outputs": [],
   "source": [
    "# Plot trajectories\n",
    "num_components = result_array.shape[0]\n",
    "num_trajectories = result_array.shape[1]\n",
    "\n",
    "for i in range(num_components):\n",
    "    _, ax = plt.subplots()\n",
    "    ax.set_title(f\"Component {i + 1}\")\n",
    "    ax.set_xlabel(r\"$t$\")\n",
    "    ax.set_ylabel(rf\"$x_{{{i + 1}}}(t)$\")\n",
    "\n",
    "    for j in range(num_trajectories):\n",
    "        ax.plot(time_array[:], result_array[i, j, :])"
   ]
  }
 ],
 "metadata": {
  "kernelspec": {
   "display_name": ".venv",
   "language": "python",
   "name": "python3"
  },
  "language_info": {
   "codemirror_mode": {
    "name": "ipython",
    "version": 3
   },
   "file_extension": ".py",
   "mimetype": "text/x-python",
   "name": "python",
   "nbconvert_exporter": "python",
   "pygments_lexer": "ipython3",
   "version": "3.12.8"
  }
 },
 "nbformat": 4,
 "nbformat_minor": 2
}
