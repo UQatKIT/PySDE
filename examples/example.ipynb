{
 "cells": [
  {
   "cell_type": "code",
   "execution_count": 1,
   "metadata": {},
   "outputs": [],
   "source": [
    "from pathlib import Path\n",
    "\n",
    "import matplotlib.pyplot as plt\n",
    "import numpy as np\n",
    "import seaborn as sns\n",
    "\n",
    "from pysde import increments, integrator, schemes, storages\n",
    "\n",
    "sns.set_theme(style=\"ticks\")"
   ]
  },
  {
   "cell_type": "code",
   "execution_count": 2,
   "metadata": {},
   "outputs": [],
   "source": [
    "def drift(x, _t):\n",
    "    return -x\n",
    "\n",
    "\n",
    "def diffusion(_x, _t):\n",
    "    return -np.identity(1)"
   ]
  },
  {
   "cell_type": "code",
   "execution_count": 3,
   "metadata": {},
   "outputs": [],
   "source": [
    "x0 = np.zeros((1, 5))\n",
    "t0 = 0.0\n",
    "dt = 0.01\n",
    "num_steps = 1000"
   ]
  },
  {
   "cell_type": "code",
   "execution_count": 4,
   "metadata": {},
   "outputs": [],
   "source": [
    "storage = storages.NumpyStorage(stride=1, save_directory=Path(\"result\"))\n",
    "brownian_increment = increments.BrownianIncrement(seed=0)\n",
    "scheme = schemes.ExplicitEulerMaruyamaScheme(drift, diffusion, brownian_increment)\n",
    "sde_integrator = integrator.SDEIntegrator(scheme, storage)"
   ]
  },
  {
   "cell_type": "code",
   "execution_count": 5,
   "metadata": {},
   "outputs": [
    {
     "name": "stderr",
     "output_type": "stream",
     "text": [
      "100%|██████████| 1000/1000 [00:02<00:00, 406.77it/s]\n"
     ]
    }
   ],
   "source": [
    "time, data = sde_integrator.run(\n",
    "    initial_state=x0, initial_time=t0, step_size=dt, num_steps=num_steps, progress_bar=True\n",
    ")"
   ]
  },
  {
   "cell_type": "code",
   "execution_count": 6,
   "metadata": {},
   "outputs": [],
   "source": [
    "time, data = result"
   ]
  }
 ],
 "metadata": {
  "kernelspec": {
   "display_name": ".venv",
   "language": "python",
   "name": "python3"
  },
  "language_info": {
   "codemirror_mode": {
    "name": "ipython",
    "version": 3
   },
   "file_extension": ".py",
   "mimetype": "text/x-python",
   "name": "python",
   "nbconvert_exporter": "python",
   "pygments_lexer": "ipython3",
   "version": "3.12.8"
  }
 },
 "nbformat": 4,
 "nbformat_minor": 2
}
