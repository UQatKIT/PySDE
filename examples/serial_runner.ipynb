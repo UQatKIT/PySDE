{
 "cells": [
  {
   "cell_type": "code",
   "execution_count": 9,
   "metadata": {},
   "outputs": [],
   "source": [
    "from pathlib import Path\n",
    "\n",
    "import numpy as np\n",
    "\n",
    "from pysde import increments, runner, schemes, storages"
   ]
  },
  {
   "cell_type": "code",
   "execution_count": 16,
   "metadata": {},
   "outputs": [],
   "source": [
    "def drift(x, _t):\n",
    "    return -x\n",
    "\n",
    "def diffusion(_x, _t):\n",
    "    return 1*np.identity(1)"
   ]
  },
  {
   "cell_type": "code",
   "execution_count": 17,
   "metadata": {},
   "outputs": [],
   "source": [
    "x0 = np.ones((1, 100000))\n",
    "t0 = 0.0\n",
    "dt = 0.01\n",
    "num_steps = 1000"
   ]
  },
  {
   "cell_type": "code",
   "execution_count": 18,
   "metadata": {},
   "outputs": [],
   "source": [
    "settings = runner.Settings(\n",
    "    scheme_type=schemes.ExplicitEulerMaruyamaScheme,\n",
    "    increment_type=increments.BrownianIncrement,\n",
    "    increment_seed=0,\n",
    "    storage_type=storages.NumpyStorage,\n",
    "    storage_stride=100,\n",
    "    storage_save_directory=Path(\"data\"),\n",
    ")"
   ]
  },
  {
   "cell_type": "code",
   "execution_count": null,
   "metadata": {},
   "outputs": [],
   "source": [
    "sde_runner = runner.SerialRunner(settings, drift, diffusion)\n",
    "result = sde_runner.run(x0, t0, dt, num_steps, progress_bar=True)"
   ]
  }
 ],
 "metadata": {
  "kernelspec": {
   "display_name": ".venv",
   "language": "python",
   "name": "python3"
  },
  "language_info": {
   "codemirror_mode": {
    "name": "ipython",
    "version": 3
   },
   "file_extension": ".py",
   "mimetype": "text/x-python",
   "name": "python",
   "nbconvert_exporter": "python",
   "pygments_lexer": "ipython3",
   "version": "3.12.8"
  }
 },
 "nbformat": 4,
 "nbformat_minor": 2
}
