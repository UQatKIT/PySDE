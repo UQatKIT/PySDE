{
 "cells": [
  {
   "cell_type": "code",
   "execution_count": 1,
   "metadata": {},
   "outputs": [],
   "source": [
    "import numba\n",
    "import numpy as np\n",
    "\n",
    "from pysde import increments, integrator, schemes, storages\n",
    "\n",
    "numba.config.DISABLE_JIT = False"
   ]
  },
  {
   "cell_type": "code",
   "execution_count": 2,
   "metadata": {},
   "outputs": [],
   "source": [
    "def drift(x, _t):\n",
    "    return -x\n",
    "\n",
    "\n",
    "def diffusion(_x, _t):\n",
    "    return 1 * np.identity(1)"
   ]
  },
  {
   "cell_type": "code",
   "execution_count": 3,
   "metadata": {},
   "outputs": [],
   "source": [
    "x0 = np.ones((1, 100000))\n",
    "t0 = 0.0\n",
    "dt = 0.01\n",
    "num_steps = 1000"
   ]
  },
  {
   "cell_type": "code",
   "execution_count": 4,
   "metadata": {},
   "outputs": [],
   "source": [
    "storage = storages.NumpyStorage(stride=100)\n",
    "brownian_increment = increments.WienerIncrement(seed=0)\n",
    "scheme = schemes.ExplicitEulerMaruyamaScheme(drift, diffusion, brownian_increment)\n",
    "sde_integrator = integrator.SDEIntegrator(scheme, storage)"
   ]
  },
  {
   "cell_type": "code",
   "execution_count": 5,
   "metadata": {},
   "outputs": [
    {
     "name": "stderr",
     "output_type": "stream",
     "text": [
      "100%|██████████| 1000/1000 [00:06<00:00, 157.91it/s]\n"
     ]
    }
   ],
   "source": [
    "result = sde_integrator.run(\n",
    "    initial_state=x0, initial_time=t0, step_size=dt, num_steps=num_steps, progress_bar=True\n",
    ")"
   ]
  }
 ],
 "metadata": {
  "kernelspec": {
   "display_name": ".venv",
   "language": "python",
   "name": "python3"
  },
  "language_info": {
   "codemirror_mode": {
    "name": "ipython",
    "version": 3
   },
   "file_extension": ".py",
   "mimetype": "text/x-python",
   "name": "python",
   "nbconvert_exporter": "python",
   "pygments_lexer": "ipython3",
   "version": "3.12.8"
  }
 },
 "nbformat": 4,
 "nbformat_minor": 2
}
