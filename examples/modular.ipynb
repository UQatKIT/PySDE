{
 "cells": [
  {
   "cell_type": "code",
   "execution_count": 2,
   "metadata": {},
   "outputs": [],
   "source": [
    "import numba\n",
    "import numpy as np\n",
    "\n",
    "from pysde import increments, integrator, schemes, storages\n",
    "\n",
    "numba.config.DISABLE_JIT = False"
   ]
  },
  {
   "cell_type": "code",
   "execution_count": 3,
   "metadata": {},
   "outputs": [],
   "source": [
    "def drift(x, _t):\n",
    "    return -x\n",
    "\n",
    "\n",
    "def diffusion(_x, _t):\n",
    "    return 1 * np.identity(1)"
   ]
  },
  {
   "cell_type": "code",
   "execution_count": 4,
   "metadata": {},
   "outputs": [],
   "source": [
    "x0 = np.ones((1, 100000))\n",
    "t0 = 0.0\n",
    "dt = 0.01\n",
    "num_steps = 1000"
   ]
  },
  {
   "cell_type": "code",
   "execution_count": 13,
   "metadata": {},
   "outputs": [
    {
     "ename": "TypeError",
     "evalue": "'odict_keys' object does not support item deletion",
     "output_type": "error",
     "traceback": [
      "\u001b[0;31m---------------------------------------------------------------------------\u001b[0m",
      "\u001b[0;31mTypeError\u001b[0m                                 Traceback (most recent call last)",
      "Cell \u001b[0;32mIn[13], line 3\u001b[0m\n\u001b[1;32m      1\u001b[0m \u001b[38;5;28;01mimport\u001b[39;00m\u001b[38;5;250m \u001b[39m\u001b[38;5;21;01minspect\u001b[39;00m\n\u001b[1;32m      2\u001b[0m init_args \u001b[38;5;241m=\u001b[39m inspect\u001b[38;5;241m.\u001b[39msignature(integrator\u001b[38;5;241m.\u001b[39mSDEIntegrator\u001b[38;5;241m.\u001b[39m\u001b[38;5;21m__init__\u001b[39m)\u001b[38;5;241m.\u001b[39mparameters\u001b[38;5;241m.\u001b[39mkeys()\n\u001b[0;32m----> 3\u001b[0m \u001b[38;5;28;01mdel\u001b[39;00m \u001b[43minit_args\u001b[49m\u001b[43m[\u001b[49m\u001b[38;5;124;43m\"\u001b[39;49m\u001b[38;5;124;43mself\u001b[39;49m\u001b[38;5;124;43m\"\u001b[39;49m\u001b[43m]\u001b[49m\n\u001b[1;32m      4\u001b[0m init_args\n",
      "\u001b[0;31mTypeError\u001b[0m: 'odict_keys' object does not support item deletion"
     ]
    }
   ],
   "source": [
    "import inspect\n",
    "\n",
    "init_args = list(inspect.signature(integrator.SDEIntegrator.__init__).parameters.keys())\n",
    "init_args"
   ]
  },
  {
   "cell_type": "code",
   "execution_count": 4,
   "metadata": {},
   "outputs": [],
   "source": [
    "storage = storages.NumpyStorage(stride=100)\n",
    "brownian_increment = increments.WienerIncrement(seed=0)\n",
    "scheme = schemes.ExplicitEulerMaruyamaScheme(drift, diffusion, brownian_increment)\n",
    "sde_integrator = integrator.SDEIntegrator(scheme, storage)"
   ]
  },
  {
   "cell_type": "code",
   "execution_count": null,
   "metadata": {},
   "outputs": [],
   "source": [
    "result = sde_integrator.run(\n",
    "    initial_state=x0, initial_time=t0, step_size=dt, num_steps=num_steps, progress_bar=True\n",
    ")"
   ]
  }
 ],
 "metadata": {
  "kernelspec": {
   "display_name": ".venv",
   "language": "python",
   "name": "python3"
  },
  "language_info": {
   "codemirror_mode": {
    "name": "ipython",
    "version": 3
   },
   "file_extension": ".py",
   "mimetype": "text/x-python",
   "name": "python",
   "nbconvert_exporter": "python",
   "pygments_lexer": "ipython3",
   "version": "3.12.8"
  }
 },
 "nbformat": 4,
 "nbformat_minor": 2
}
