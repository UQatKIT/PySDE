{
 "cells": [
  {
   "cell_type": "code",
   "execution_count": 1,
   "metadata": {},
   "outputs": [],
   "source": [
    "from pathlib import Path\n",
    "\n",
    "import numpy as np\n",
    "\n",
    "from pysde import increments, runner, schemes, storages"
   ]
  },
  {
   "cell_type": "code",
   "execution_count": 2,
   "metadata": {},
   "outputs": [],
   "source": [
    "def drift(x, t):\n",
    "    return -x\n",
    "\n",
    "\n",
    "def diffusion(x, t):\n",
    "    return 1 * np.identity(1)"
   ]
  },
  {
   "cell_type": "code",
   "execution_count": 3,
   "metadata": {},
   "outputs": [],
   "source": [
    "x0 = np.ones((1, 100000))\n",
    "t0 = 0.0\n",
    "dt = 0.01\n",
    "num_steps = 1000"
   ]
  },
  {
   "cell_type": "code",
   "execution_count": null,
   "metadata": {},
   "outputs": [],
   "source": [
    "sde_integrator = runner.IntegratorBuilder.build_integrator(\n",
    "    drift_function=drift,\n",
    "    diffusion_function=diffusion,\n",
    "    scheme_type=schemes.ExplicitEulerMaruyamaScheme,\n",
    "    increment_type=increments.BrownianIncrement,\n",
    "    storage_type=storages.NumpyStorage,\n",
    "    seed=0,\n",
    "    stride=100,\n",
    "    save_directory=Path(\"../example_results/data\"),\n",
    ")\n",
    "result = sde_integrator.run(x0, t0, dt, num_steps, progress_bar=True)"
   ]
  }
 ],
 "metadata": {
  "kernelspec": {
   "display_name": ".venv",
   "language": "python",
   "name": "python3"
  },
  "language_info": {
   "codemirror_mode": {
    "name": "ipython",
    "version": 3
   },
   "file_extension": ".py",
   "mimetype": "text/x-python",
   "name": "python",
   "nbconvert_exporter": "python",
   "pygments_lexer": "ipython3",
   "version": "3.12.8"
  }
 },
 "nbformat": 4,
 "nbformat_minor": 2
}
