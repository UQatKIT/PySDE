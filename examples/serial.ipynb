{
 "cells": [
  {
   "cell_type": "markdown",
   "metadata": {},
   "source": [
    "# Imports"
   ]
  },
  {
   "cell_type": "code",
   "execution_count": 1,
   "metadata": {},
   "outputs": [],
   "source": [
    "from pathlib import Path\n",
    "\n",
    "import matplotlib.pyplot as plt\n",
    "import numba\n",
    "import numpy as np\n",
    "import seaborn as sns\n",
    "\n",
    "from pysde import increments, integrator, schemes, storages\n",
    "\n",
    "numba.config.DISABLE_JIT = False\n",
    "sns.set_theme(style=\"ticks\")"
   ]
  },
  {
   "cell_type": "markdown",
   "metadata": {},
   "source": [
    "# Setup"
   ]
  },
  {
   "cell_type": "code",
   "execution_count": null,
   "metadata": {},
   "outputs": [],
   "source": [
    "# Define drift function i.t.o. space and time\n",
    "def drift(x, t):\n",
    "    return -2 * np.power(x, 3) + 3 * x\n",
    "\n",
    "\n",
    "# Define diffusion function i.t.o. space and time\n",
    "def diffusion(x, t):\n",
    "    return np.sqrt(np.power(x, 2) + 2)\n",
    "\n",
    "\n",
    "# Define initial condition and solver parameters\n",
    "rng = np.random.default_rng(seed=0)\n",
    "x0 = rng.normal(loc=0, scale=0.5, size=(1, 100000)).astype(np.float32)\n",
    "t0 = 0.0\n",
    "dt = 0.01\n",
    "num_steps = 1001"
   ]
  },
  {
   "cell_type": "markdown",
   "metadata": {},
   "source": [
    "# Solver"
   ]
  },
  {
   "cell_type": "code",
   "execution_count": null,
   "metadata": {},
   "outputs": [],
   "source": [
    "# Construct solver components\n",
    "storage = storages.ZarrStorage(\n",
    "    stride=1, chunk_size=50, save_directory=Path(\"../results_example_serial/result\")\n",
    ")\n",
    "brownian_increment = increments.BrownianIncrement(seed=1)\n",
    "scheme = schemes.ExplicitEulerMaruyamaScheme(drift, diffusion, brownian_increment)\n",
    "sde_integrator = integrator.SDEIntegrator(scheme, storage)\n",
    "\n",
    "# Run solver\n",
    "storage = sde_integrator.run(\n",
    "    initial_state=x0, initial_time=t0, step_size=dt, num_steps=num_steps, progress_bar=True\n",
    ")"
   ]
  },
  {
   "cell_type": "code",
   "execution_count": null,
   "metadata": {},
   "outputs": [],
   "source": [
    "# Visualize Results\n",
    "times, data = storage.values\n",
    "fig, ax = plt.subplots(figsize=(5, 5), layout=\"constrained\")\n",
    "ax.hist(data[0, :, 0], bins=30, density=True, alpha=0.75, label=rf\"$t={times[0]:.1f}$\")\n",
    "ax.hist(data[0, :, -1], bins=30, density=True, alpha=0.75, label=rf\"$t={times[-1]:.1f}$\")\n",
    "ax.set_xlim((-3, 3))\n",
    "ax.set_ylim((0, 0.8))\n",
    "ax.set_yticks((0, 0.2, 0.4, 0.6, 0.8))\n",
    "ax.legend()"
   ]
  }
 ],
 "metadata": {
  "kernelspec": {
   "display_name": ".venv",
   "language": "python",
   "name": "python3"
  },
  "language_info": {
   "codemirror_mode": {
    "name": "ipython",
    "version": 3
   },
   "file_extension": ".py",
   "mimetype": "text/x-python",
   "name": "python",
   "nbconvert_exporter": "python",
   "pygments_lexer": "ipython3",
   "version": "3.12.8"
  }
 },
 "nbformat": 4,
 "nbformat_minor": 2
}
