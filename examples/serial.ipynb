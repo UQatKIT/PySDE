{
 "cells": [
  {
   "cell_type": "code",
   "execution_count": 1,
   "metadata": {},
   "outputs": [],
   "source": [
    "from pathlib import Path\n",
    "\n",
    "import matplotlib.pyplot as plt\n",
    "import numba\n",
    "import numpy as np\n",
    "import seaborn as sns\n",
    "\n",
    "from pysde import increments, integrator, schemes, storages\n",
    "\n",
    "numba.config.DISABLE_JIT = False\n",
    "sns.set_theme(style=\"ticks\")"
   ]
  },
  {
   "cell_type": "code",
   "execution_count": 2,
   "metadata": {},
   "outputs": [],
   "source": [
    "def drift(x, t):\n",
    "    return -2 * np.power(x, 3) + 3 * x\n",
    "\n",
    "\n",
    "def diffusion(x, t):\n",
    "    return np.sqrt(np.power(x, 2) + 2)"
   ]
  },
  {
   "cell_type": "code",
   "execution_count": 3,
   "metadata": {},
   "outputs": [],
   "source": [
    "rng = np.random.default_rng(seed=0)\n",
    "x0 = rng.normal(loc=0, scale=0.5, size=(1, 100000)).astype(np.float32)\n",
    "t0 = 0.0\n",
    "dt = 0.01\n",
    "num_steps = 101"
   ]
  },
  {
   "cell_type": "code",
   "execution_count": 5,
   "metadata": {},
   "outputs": [],
   "source": [
    "storage = storages.NumpyStorage(stride=10, save_directory=Path(\"../results_example_serial/result\"))\n",
    "brownian_increment = increments.BrownianIncrement(seed=1)\n",
    "scheme = schemes.ExplicitEulerMaruyamaScheme(drift, diffusion, brownian_increment)\n",
    "sde_integrator = integrator.SDEIntegrator(scheme, storage)"
   ]
  },
  {
   "cell_type": "code",
   "execution_count": 6,
   "metadata": {},
   "outputs": [
    {
     "name": "stderr",
     "output_type": "stream",
     "text": [
      "100%|██████████| 101/101 [00:01<00:00, 71.51it/s]\n"
     ]
    }
   ],
   "source": [
    "storage = sde_integrator.run(\n",
    "    initial_state=x0, initial_time=t0, step_size=dt, num_steps=num_steps, progress_bar=True\n",
    ")"
   ]
  },
  {
   "cell_type": "code",
   "execution_count": 7,
   "metadata": {},
   "outputs": [
    {
     "data": {
      "text/plain": [
       "<matplotlib.legend.Legend at 0x7fe9ad298650>"
      ]
     },
     "execution_count": 7,
     "metadata": {},
     "output_type": "execute_result"
    },
    {
     "data": {
      "image/png": "[encoded data removed]",
      "text/plain": [
       "<Figure size 500x500 with 1 Axes>"
      ]
     },
     "metadata": {},
     "output_type": "display_data"
    }
   ],
   "source": [
    "times, data = storage.values\n",
    "_, ax = plt.subplots(figsize=(5, 5), layout=\"constrained\")\n",
    "ax.hist(data[0, :, 0], bins=30, density=True, alpha=0.75, label=rf\"$t={times[0]:.1f}$\")\n",
    "ax.hist(data[0, :, -1], bins=30, density=True, alpha=0.75, label=rf\"$t={times[-1]:.1f}$\")\n",
    "ax.set_xlim((-3, 3))\n",
    "ax.set_ylim((0, 0.8))\n",
    "ax.set_yticks((0, 0.2, 0.4, 0.6, 0.8))\n",
    "ax.legend()"
   ]
  }
 ],
 "metadata": {
  "kernelspec": {
   "display_name": ".venv",
   "language": "python",
   "name": "python3"
  },
  "language_info": {
   "codemirror_mode": {
    "name": "ipython",
    "version": 3
   },
   "file_extension": ".py",
   "mimetype": "text/x-python",
   "name": "python",
   "nbconvert_exporter": "python",
   "pygments_lexer": "ipython3",
   "version": "3.12.8"
  }
 },
 "nbformat": 4,
 "nbformat_minor": 2
}
