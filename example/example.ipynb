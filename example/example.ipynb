{
 "cells": [
  {
   "cell_type": "code",
   "execution_count": null,
   "metadata": {},
   "outputs": [],
   "source": [
    "import numpy as np\n",
    "import matplotlib.pyplot as plt\n",
    "\n",
    "from sdeint import sdeint"
   ]
  },
  {
   "cell_type": "code",
   "execution_count": null,
   "metadata": {},
   "outputs": [],
   "source": [
    "# Settings for integration\n",
    "start_time=0\n",
    "step_size=1e-3\n",
    "num_steps=501\n",
    "initial_state=np.array([[1,0],[0, 1]])\n",
    "\n",
    "# Settingss for stochastic integral integration\n",
    "noise_dim = 2\n",
    "seed = 0\n",
    "\n",
    "# Settings for chunk-wise storage\n",
    "chunk_size = 100\n",
    "save_directory = 'result_data'\n",
    "\n",
    "# SDE Model\n",
    "def drift(current_state: np.ndarray, current_time: float):\n",
    "    return -current_state\n",
    "\n",
    "def diffusion(current_state: np.ndarray, current_time: float):\n",
    "    return np.ones_like(current_state)"
   ]
  },
  {
   "cell_type": "code",
   "execution_count": null,
   "metadata": {},
   "outputs": [],
   "source": [
    "# Stochastic integral generator\n",
    "stochastic_integral = sdeint.StochasticIntegralGenerator(noise_dim, seed)\n",
    "\n",
    "# Integration scheme, equipped with SDE model and stochastic integral generator\n",
    "scheme = sdeint.EulerMaruyamaScheme(drift, diffusion, stochastic_integral)\n",
    "\n",
    "# Storage model\n",
    "persistent_storage = sdeint.PersistentChunkwiseStorage(chunk_size, save_directory)\n",
    "\n",
    "# Outer loop integrator\n",
    "integrator = sdeint.StaticIntegrator(scheme, persistent_storage)\n",
    "\n",
    "# Solve SDE\n",
    "time_array, result_array = integrator.run(start_time, step_size, num_steps, initial_state)"
   ]
  },
  {
   "cell_type": "code",
   "execution_count": null,
   "metadata": {},
   "outputs": [],
   "source": [
    "num_components = result_array.shape[0]\n",
    "num_trajectories = result_array.shape[1]\n",
    "\n",
    "for i in range(num_components):\n",
    "    _, ax = plt.subplots()\n",
    "    ax.set_title(f\"Component {i+1}\")\n",
    "    ax.set_xlabel(r\"$t$\")\n",
    "    ax.set_ylabel(rf\"$x_{{{i+1}}}(t)$\")\n",
    "\n",
    "    for j in range(num_trajectories):\n",
    "        ax.plot(time_array, result_array[i, j, :])"
   ]
  }
 ],
 "metadata": {
  "kernelspec": {
   "display_name": "sde_integrator",
   "language": "python",
   "name": "python3"
  },
  "language_info": {
   "codemirror_mode": {
    "name": "ipython",
    "version": 3
   },
   "file_extension": ".py",
   "mimetype": "text/x-python",
   "name": "python",
   "nbconvert_exporter": "python",
   "pygments_lexer": "ipython3",
   "version": "3.11.6"
  }
 },
 "nbformat": 4,
 "nbformat_minor": 2
}
